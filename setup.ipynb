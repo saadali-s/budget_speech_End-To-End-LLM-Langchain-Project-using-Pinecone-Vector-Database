{
 "cells": [
  {
   "cell_type": "code",
   "execution_count": 87,
   "id": "fe7fd908",
   "metadata": {},
   "outputs": [
    {
     "name": "stdout",
     "output_type": "stream",
     "text": [
      "✅ Setup complete. Using index: sterling-pine\n"
     ]
    }
   ],
   "source": [
    "# CELL 1: SETUP AND IMPORTS\n",
    "from langchain_community.document_loaders import PyPDFDirectoryLoader\n",
    "from langchain_pinecone import Pinecone as LangchainPinecone\n",
    "from langchain_community.embeddings import HuggingFaceEmbeddings\n",
    "from langchain.text_splitter import RecursiveCharacterTextSplitter\n",
    "from pinecone import Pinecone\n",
    "from dotenv import load_dotenv\n",
    "import os\n",
    "\n",
    "load_dotenv()\n",
    "\n",
    "PINECONE_API_KEY = os.getenv(\"PINECONE_API_KEY\")\n",
    "PINECONE_INDEX_NAME = os.getenv(\"PINECONE_INDEX_NAME\")\n",
    "\n",
    "print(\"✅ Setup complete. Using index:\", PINECONE_INDEX_NAME)"
   ]
  },
  {
   "cell_type": "code",
   "execution_count": 88,
   "id": "6298fbb5",
   "metadata": {},
   "outputs": [
    {
     "name": "stdout",
     "output_type": "stream",
     "text": [
      "--- Deleting all existing vectors ---\n",
      "Deletion complete.\n",
      "✅ Verification -> Total vectors in index: 0\n"
     ]
    }
   ],
   "source": [
    "# CELL 2: DELETE ALL EXISTING VECTORS\n",
    "print(\"--- Deleting all existing vectors ---\")\n",
    "pc = Pinecone(api_key=PINECONE_API_KEY)\n",
    "index = pc.Index(PINECONE_INDEX_NAME)\n",
    "\n",
    "index.delete(delete_all=True)\n",
    "print(\"Deletion complete.\")\n",
    "\n",
    "# Verify the index is empty\n",
    "stats = index.describe_index_stats()\n",
    "print(\"✅ Verification -> Total vectors in index:\", stats[\"total_vector_count\"])"
   ]
  },
  {
   "cell_type": "code",
   "execution_count": 89,
   "id": "1c5330c2",
   "metadata": {},
   "outputs": [
    {
     "name": "stdout",
     "output_type": "stream",
     "text": [
      "\n",
      "--- Reading and chunking new data ---\n",
      "Loaded 23 pages from the document.\n",
      "✅ Split document into 58 chunks.\n"
     ]
    }
   ],
   "source": [
    "# CELL 3: LOAD AND CHUNK DOCUMENTS\n",
    "print(\"\\n--- Reading and chunking new data ---\")\n",
    "loader = PyPDFDirectoryLoader(\"documents/\")\n",
    "docs = loader.load()\n",
    "print(f\"Loaded {len(docs)} pages from the document.\")\n",
    "\n",
    "text_splitter = RecursiveCharacterTextSplitter(chunk_size=800, chunk_overlap=50)\n",
    "chunked_docs = text_splitter.split_documents(docs)\n",
    "print(f\"✅ Split document into {len(chunked_docs)} chunks.\")"
   ]
  },
  {
   "cell_type": "code",
   "execution_count": 90,
   "id": "df8831f2",
   "metadata": {},
   "outputs": [
    {
     "name": "stdout",
     "output_type": "stream",
     "text": [
      "\n",
      "--- Creating embeddings and inserting data ---\n",
      "✅ Successfully inserted 58 new chunks into Pinecone.\n"
     ]
    }
   ],
   "source": [
    "# CELL 4: CREATE EMBEDDINGS AND INSERT DATA\n",
    "print(\"\\n--- Creating embeddings and inserting data ---\")\n",
    "embeddings = HuggingFaceEmbeddings(model_name=\"sentence-transformers/all-MiniLM-L6-v2\")\n",
    "\n",
    "LangchainPinecone.from_documents(\n",
    "    documents=chunked_docs,\n",
    "    embedding=embeddings,\n",
    "    index_name=PINECONE_INDEX_NAME\n",
    ")\n",
    "print(f\"✅ Successfully inserted {len(chunked_docs)} new chunks into Pinecone.\")"
   ]
  },
  {
   "cell_type": "code",
   "execution_count": 1,
   "id": "54fba088",
   "metadata": {},
   "outputs": [
    {
     "name": "stdout",
     "output_type": "stream",
     "text": [
      "--- Checking Pinecone Index Status ---\n",
      "✅ Successfully connected to index: 'sterling-pine'\n",
      "\n",
      "📊 Index Report:\n",
      "   - Vector Count: 58\n",
      "   - Vector Dimension: 384\n",
      "\n",
      "🎉 Verification successful! The vector count is correct.\n"
     ]
    }
   ],
   "source": [
    "# A standalone cell to check the status of your Pinecone index.\n",
    "\n",
    "from pinecone import Pinecone\n",
    "from dotenv import load_dotenv\n",
    "import os\n",
    "\n",
    "print(\"--- Checking Pinecone Index Status ---\")\n",
    "\n",
    "# --- 1. Setup and Connect ---\n",
    "# Loads credentials and connects to your specific index.\n",
    "load_dotenv()\n",
    "try:\n",
    "    pc = Pinecone(api_key=os.getenv(\"PINECONE_API_KEY\"))\n",
    "    index_name = os.getenv(\"PINECONE_INDEX_NAME\")\n",
    "    index = pc.Index(index_name)\n",
    "    print(f\"✅ Successfully connected to index: '{index_name}'\")\n",
    "except Exception as e:\n",
    "    print(f\"❌ Error connecting to Pinecone: {e}\")\n",
    "    index = None\n",
    "\n",
    "# --- 2. Get and Report Stats ---\n",
    "# Fetches the latest stats and prints them.\n",
    "if index:\n",
    "    stats = index.describe_index_stats()\n",
    "    vector_count = stats.get('total_vector_count', 0)\n",
    "    \n",
    "    print(\"\\n📊 Index Report:\")\n",
    "    print(f\"   - Vector Count: {vector_count}\")\n",
    "    print(f\"   - Vector Dimension: {stats.get('dimension', 'N/A')}\")\n",
    "\n",
    "    # --- 3. Verification Check ---\n",
    "    # Checks if the vector count matches the expected number.\n",
    "    if vector_count == 58:\n",
    "        print(\"\\n🎉 Verification successful! The vector count is correct.\")\n",
    "    else:\n",
    "        print(f\"\\n⚠️ Verification failed. Expected 58 vectors, but found {vector_count}.\")"
   ]
  },
  {
   "cell_type": "code",
   "execution_count": null,
   "id": "763871ad",
   "metadata": {},
   "outputs": [],
   "source": []
  }
 ],
 "metadata": {
  "kernelspec": {
   "display_name": "venv",
   "language": "python",
   "name": "python3"
  },
  "language_info": {
   "codemirror_mode": {
    "name": "ipython",
    "version": 3
   },
   "file_extension": ".py",
   "mimetype": "text/x-python",
   "name": "python",
   "nbconvert_exporter": "python",
   "pygments_lexer": "ipython3",
   "version": "3.13.7"
  }
 },
 "nbformat": 4,
 "nbformat_minor": 5
}
